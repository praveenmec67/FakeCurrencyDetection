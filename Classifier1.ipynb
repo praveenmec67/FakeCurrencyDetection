{
  "nbformat": 4,
  "nbformat_minor": 0,
  "metadata": {
    "colab": {
      "name": "Classifier1.ipynb",
      "provenance": [],
      "collapsed_sections": [],
      "authorship_tag": "ABX9TyPDUWWLS31uvOLyN3KCGRBm",
      "include_colab_link": true
    },
    "kernelspec": {
      "name": "python3",
      "display_name": "Python 3"
    },
    "accelerator": "GPU"
  },
  "cells": [
    {
      "cell_type": "markdown",
      "metadata": {
        "id": "view-in-github",
        "colab_type": "text"
      },
      "source": [
        "<a href=\"https://colab.research.google.com/github/praveenmec67/FakeCurrencyDetection/blob/master/Classifier1.ipynb\" target=\"_parent\"><img src=\"https://colab.research.google.com/assets/colab-badge.svg\" alt=\"Open In Colab\"/></a>"
      ]
    },
    {
      "cell_type": "code",
      "metadata": {
        "id": "j94lTx_86qEL",
        "colab_type": "code",
        "colab": {}
      },
      "source": [
        "import pandas as pd\n",
        "import numpy as np\n",
        "import tensorflow as tf\n",
        "import matplotlib.pyplot as plt\n",
        "import matplotlib.image as im\n",
        "import boto3\n",
        "import os\n",
        "import cv2 as cv2\n",
        "import tempfile\n",
        "from tensorflow.keras import layers,models"
      ],
      "execution_count": 2,
      "outputs": []
    },
    {
      "cell_type": "code",
      "metadata": {
        "id": "U1gG4IKP63fr",
        "colab_type": "code",
        "colab": {}
      },
      "source": [
        "img_width=224\n",
        "img_height=224\n",
        "channels=3\n",
        "l=[]\n",
        "empty=np.empty([1,224,224,3])\n",
        "\n",
        "ACCESS_KEY = 'XXXXXXXXXXXXXXX'\n",
        "SECRET_KEY = 'XXXXXXXXXXXXXXXXXXXXXX'\n"
      ],
      "execution_count": 3,
      "outputs": []
    },
    {
      "cell_type": "code",
      "metadata": {
        "id": "PcwNoynyTFw5",
        "colab_type": "code",
        "colab": {}
      },
      "source": [
        "def visualize(img,blur,medianfil,rotate,brightness,contrast):\n",
        "\n",
        "   fig = plt.figure(figsize=(20,20))\n",
        "   fig.subplots_adjust(wspace=0.5)\n",
        "\n",
        "  \n",
        "   plt.subplot(1,7,1)\n",
        "   plt.title('Original')\n",
        "   plt.imshow(img)\n",
        "\n",
        "   plt.subplot(1,7,2)\n",
        "   plt.title('Blur')\n",
        "   plt.imshow(blur)\n",
        "\n",
        "\n",
        "   plt.subplot(1,7,3)\n",
        "   plt.title('MedianFilter')\n",
        "   plt.imshow(medianfil)\n",
        "\n",
        "   plt.subplot(1,7,4)\n",
        "   plt.title('Rotate')\n",
        "   plt.imshow(rotate)\n",
        "\n",
        " #  plt.subplot(1,7,5)\n",
        " #  plt.title('GrayScale')\n",
        " #  plt.imshow(gray)\n",
        "\n",
        "   plt.subplot(1,7,5)\n",
        "   plt.title('Brightness')\n",
        "   plt.imshow(brightness)\n",
        "\n",
        "   plt.subplot(1,7,6)\n",
        "   plt.title('Contrast')\n",
        "   plt.imshow(contrast)"
      ],
      "execution_count": 4,
      "outputs": []
    },
    {
      "cell_type": "code",
      "metadata": {
        "id": "-yHQDs9nTI4N",
        "colab_type": "code",
        "colab": {}
      },
      "source": [
        "def image_aug(img):\n",
        "  \n",
        "  \n",
        "  rows,cols = img.shape[0],img.shape[1]\n",
        "  b,c = np.random.uniform(0.2,0.6),np.random.uniform(0.2,0.6)\n",
        "\n",
        "  img_org=img\n",
        "  img_org=img.reshape(1,img_width,img_height,channels)\n",
        "  img_org=tf.convert_to_tensor(img_org,dtype=tf.uint8)\n",
        "\n",
        "\n",
        "\n",
        "  gray=cv2.cvtColor(img,cv2.COLOR_BGR2GRAY)\n",
        "  #gray=gray.reshape(1,img_width,img_height,channels)\n",
        "  #gray=tf.convert_to_tensor(gray,dtype=tf.uint8)\n",
        "  \n",
        "  \n",
        "  blur=cv2.blur(img,(5,5))\n",
        "  blur=blur.reshape(1,img_width,img_height,channels)\n",
        "  blur=tf.convert_to_tensor(blur,dtype=tf.uint8)\n",
        "\n",
        "\n",
        "  medianfil=cv2.medianBlur(img,5)\n",
        "  medianfil=medianfil.reshape(1,img_width,img_height,channels)\n",
        "  medianfil=tf.convert_to_tensor(medianfil,dtype=tf.uint8)\n",
        "\n",
        "\n",
        "  brightness=tf.image.adjust_brightness(img,b)\n",
        "  brightness=tf.reshape(img,[1,img_width,img_height,channels])\n",
        "\n",
        "\n",
        "  contrast=tf.image.adjust_contrast(img,c)\n",
        "  contrast=tf.reshape(img,[1,img_width,img_height,channels])\n",
        "\n",
        "\n",
        "\n",
        "  for i in np.random.randint(0,360,1):\n",
        "    M = cv2.getRotationMatrix2D((cols/2,rows/2),i,1)\n",
        "    rotate = cv2.warpAffine(img,M,(cols,rows))\n",
        "    rotate=rotate.reshape(1,rotate.shape[0],rotate.shape[1],rotate.shape[2])\n",
        "    rotate=tf.convert_to_tensor(rotate,dtype=tf.uint8)\n",
        "\n",
        "\n",
        "    img_aug=np.concatenate([img_org,blur,medianfil,brightness,contrast,rotate],axis=0)\n",
        "    return img_aug\n",
        " \n",
        "\n",
        "  #visualize(img,blur,medianfil,rotate,brightness,contrast)"
      ],
      "execution_count": 5,
      "outputs": []
    },
    {
      "cell_type": "code",
      "metadata": {
        "id": "dFLqGjuSTMYR",
        "colab_type": "code",
        "colab": {}
      },
      "source": [
        "\n",
        "s3=boto3.resource('s3',aws_access_key_id=ACCESS_KEY,aws_secret_access_key=SECRET_KEY)\n",
        "bucket=s3.Bucket('fakedetection')\n",
        "ignore='Denomination_Original/'\n",
        "\n",
        "\n",
        "for i in bucket.objects.filter(Prefix='Denomination_Original/'):\n",
        "  if i.key !=ignore:\n",
        "   l.append(i.key)\n",
        "  else:\n",
        "    continue\n",
        "print('Total Images in S3 bucket: '+str(len(l)))\n",
        "\n",
        "\n",
        "total=0\n",
        "for j in l:\n",
        "  if total==len(l):\n",
        "    break\n",
        "  else:\n",
        "    name='img_'+str(total)\n",
        "    key=j\n",
        "    obj=bucket.Object(key)\n",
        "    tmp = tempfile.NamedTemporaryFile()\n",
        "\n",
        "    with open(tmp.name, 'wb') as f:\n",
        "      obj.download_fileobj(f)\n",
        "      img=im.imread(tmp.name)\n",
        "      img=cv2.resize(img,(img_width,img_height),interpolation=cv2.INTER_LINEAR)\n",
        "      \n",
        "      print(j +' : '+str(img.shape))\n",
        "      images_aug=image_aug(img)\n",
        "      final_inp=np.append(empty,images_aug,0)\n",
        "      empty=final_inp\n",
        "      total=total+1\n",
        "      \n",
        "\n",
        "final_inp=np.delete(final_inp,[0],0)\n",
        "\n",
        "\n",
        "print('Total Images is : '+str(total))\n",
        "print('Total Images Shape : '+str(final_inp.shape))"
      ],
      "execution_count": null,
      "outputs": []
    },
    {
      "cell_type": "code",
      "metadata": {
        "id": "lvykpfHugXe-",
        "colab_type": "code",
        "colab": {}
      },
      "source": [
        "s3=boto3.resource('s3',aws_access_key_id=ACCESS_KEY,aws_secret_access_key=SECRET_KEY)\n",
        "bucket=s3.Bucket('fakedetection')\n",
        "ignore='Labels/'\n",
        "list=[]\n",
        "for i in bucket.objects.filter(Prefix='Labels/'):\n",
        "  if i.key!=ignore:\n",
        "    list.append(i.key)\n",
        "    print(list)\n",
        "  else:\n",
        "    continue\n",
        "for j in list:\n",
        "    key=j\n",
        "    print(key)\n",
        "    obj=bucket.Object(key)\n",
        "    print(obj)\n",
        "    tmp = tempfile.NamedTemporaryFile()\n",
        "\n",
        "    with open(tmp.name, 'wb') as f:\n",
        "      obj.download_fileobj(f)\n",
        "      labels_inp=pd.read_csv(tmp.name).iloc[:,1].values\n",
        "      print(labels_inp)\n",
        "\n",
        "  "
      ],
      "execution_count": null,
      "outputs": []
    },
    {
      "cell_type": "code",
      "metadata": {
        "id": "vuopJ38_3clL",
        "colab_type": "code",
        "colab": {}
      },
      "source": [
        "#X=tf.reshape(final_inp,shape=[1002,(224*224*3)])\n",
        "final_inp=final_inp/255.\n",
        "train_images=final_inp[:900,:]\n",
        "test_images=final_inp[900:,:]\n",
        "train_labels=labels_inp[:900]\n",
        "test_labels=labels_inp[900:]\n",
        "\n",
        "\n"
      ],
      "execution_count": 8,
      "outputs": []
    },
    {
      "cell_type": "code",
      "metadata": {
        "id": "Syyj1GKBbzfS",
        "colab_type": "code",
        "colab": {}
      },
      "source": [
        "\n",
        "model=tf.keras.models.Sequential([\n",
        "  tf.keras.layers.Convolution2D(32,(3,3),(2,2),input_shape=(img_width,img_height,3)),\n",
        "  tf.keras.layers.Convolution2D(64,(5,5),(1,1)),\n",
        "  tf.keras.layers.Activation(activation='relu'),\n",
        "  tf.keras.layers.MaxPooling2D((2,2),(1,1)),\n",
        "  tf.keras.layers.Flatten(),\n",
        "  tf.keras.layers.Dense(1,activation='sigmoid')\n",
        "])\n",
        "model.summary()\n",
        "model.compile(optimizer='Adam',loss='binary_crossentropy',metrics='accuracy')\n",
        "history=model.fit(train_images,train_labels,epochs=5,validation_split=0.2,shuffle='y')"
      ],
      "execution_count": null,
      "outputs": []
    },
    {
      "cell_type": "code",
      "metadata": {
        "id": "HTQSFBUHXQsX",
        "colab_type": "code",
        "colab": {}
      },
      "source": [
        "model1=tf.keras.models.Sequential([\n",
        "  tf.keras.layers.Convolution2D(32,(3,3),(2,2),input_shape=(img_width,img_height,3)),\n",
        "  tf.keras.layers.Convolution2D(64,(5,5),(1,1)),\n",
        "  tf.keras.layers.Activation(activation='relu'),\n",
        "  tf.keras.layers.MaxPooling2D((2,2),(1,1)),\n",
        "  tf.keras.layers.Convolution2D(512,(3,3),(2,2)),\n",
        "  tf.keras.layers.Activation(activation='relu'),\n",
        "  tf.keras.layers.Convolution2D(64,(5,5),(1,1)),\n",
        "  tf.keras.layers.MaxPooling2D((2,2),(1,1)),\n",
        "  tf.keras.layers.Flatten(),\n",
        "  tf.keras.layers.Dense(1,activation='sigmoid')\n",
        "])\n",
        "model1.summary()\n",
        "model1.compile(optimizer='Adam',loss='binary_crossentropy',metrics='accuracy')\n",
        "history=model1.fit(train_images,train_labels,epochs=5,validation_split=0.2,shuffle='y')"
      ],
      "execution_count": null,
      "outputs": []
    },
    {
      "cell_type": "code",
      "metadata": {
        "id": "y8XDOxT1lAph",
        "colab_type": "code",
        "colab": {}
      },
      "source": [
        "acc = history.history['accuracy']\n",
        "val_acc = history.history['val_accuracy']\n",
        "\n",
        "loss = history.history['loss']\n",
        "val_loss = history.history['val_loss']\n",
        "\n",
        "plt.figure(figsize=(8, 8))\n",
        "plt.subplot(2, 1, 1)\n",
        "plt.plot(acc, label='Training Accuracy')\n",
        "plt.plot(val_acc, label='Validation Accuracy')\n",
        "plt.legend(loc='lower right')\n",
        "plt.ylabel('Accuracy')\n",
        "plt.ylim([min(plt.ylim()),1])\n",
        "plt.title('Training and Validation Accuracy')\n",
        "\n",
        "plt.subplot(2, 1, 2)\n",
        "plt.plot(loss, label='Training Loss')\n",
        "plt.plot(val_loss, label='Validation Loss')\n",
        "plt.legend(loc='upper right')\n",
        "plt.ylabel('Cross Entropy')\n",
        "plt.ylim([0,1.0])\n",
        "plt.title('Training and Validation Loss')\n",
        "plt.xlabel('epoch')\n",
        "plt.show()"
      ],
      "execution_count": null,
      "outputs": []
    },
    {
      "cell_type": "code",
      "metadata": {
        "id": "9tpzSGOhvh-l",
        "colab_type": "code",
        "colab": {}
      },
      "source": [
        "test_loss,test_acc=model.evaluate(np.asarray(test_images),np.asarray(test_labels),verbose=0)\n",
        "print(test_loss)\n",
        "print(test_acc)\n"
      ],
      "execution_count": null,
      "outputs": []
    },
    {
      "cell_type": "code",
      "metadata": {
        "id": "RXZ532gvzm2r",
        "colab_type": "code",
        "colab": {}
      },
      "source": [
        "empty1=np.empty([1,224,224,3])\n",
        "s3=boto3.resource('s3',aws_access_key_id=ACCESS_KEY,aws_secret_access_key=SECRET_KEY)\n",
        "bucket=s3.Bucket('fakedetection')\n",
        "ignore='Test/'\n",
        "list=[]\n",
        "for i in bucket.objects.filter(Prefix='Test/'):\n",
        "  if i.key!=ignore:\n",
        "    list.append(i.key)\n",
        "  else:\n",
        "    continue\n",
        "\n",
        "print('Total Images in S3 bucket: '+str(len(list)))\n",
        "\n",
        "\n",
        "total=0\n",
        "for j in list:\n",
        "  if total==len(list):\n",
        "    break\n",
        "  else:\n",
        "    key=j\n",
        "    print(key)\n",
        "    obj=bucket.Object(key)\n",
        "    tmp = tempfile.NamedTemporaryFile()\n",
        "\n",
        "    with open(tmp.name, 'wb') as f:\n",
        "      obj.download_fileobj(f)\n",
        "      img=im.imread(tmp.name)\n",
        "      img=cv2.resize(img,(img_width,img_height),interpolation=cv2.INTER_LINEAR)\n",
        "      img=img/255\n",
        "      img=img.reshape(1,img_width,img_height,channels)\n",
        "      test_inp=np.append(empty1,img,0)\n",
        "      empty1=test_inp\n",
        "      total=total+1\n",
        "      \n",
        "\n",
        "\n",
        "\n",
        "print(test_inp.shape)\n",
        "print('Total Images is : '+str(total))\n",
        "print('Total Images Shape : '+str(test_inp.shape))\n",
        "      \n",
        "\n",
        "  "
      ],
      "execution_count": null,
      "outputs": []
    },
    {
      "cell_type": "code",
      "metadata": {
        "id": "dn-8ueKZ-Acz",
        "colab_type": "code",
        "colab": {}
      },
      "source": [
        "print(test_inp)\n",
        "test=np.delete(test_inp,[0],0)\n",
        "print(test)"
      ],
      "execution_count": null,
      "outputs": []
    },
    {
      "cell_type": "code",
      "metadata": {
        "id": "vBNfvdZj-gVR",
        "colab_type": "code",
        "colab": {}
      },
      "source": [
        "pred=model1.predict(test).flatten().tolist()\n",
        "print(pred)\n"
      ],
      "execution_count": null,
      "outputs": []
    }
  ]
}
